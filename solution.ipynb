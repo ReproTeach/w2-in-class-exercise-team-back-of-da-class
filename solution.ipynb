{
 "cells": [
  {
   "cell_type": "markdown",
   "id": "a0e82017-7983-4a97-bad2-07be564f0a83",
   "metadata": {},
   "source": [
    "**Team Back of da room\n",
    "Jim Guo, Kristina Dyrvik, Laurwyn Smith, Xin Qi"
   ]
  },
  {
   "cell_type": "code",
   "execution_count": 1,
   "id": "08e20aa8-2cc7-4ed2-9afd-a3d15630b88f",
   "metadata": {
    "tags": []
   },
   "outputs": [],
   "source": [
    "import numpy as np\n",
    "def maxiumum(x):\n",
    "    return max(x)\n"
   ]
  },
  {
   "cell_type": "code",
   "execution_count": null,
   "id": "94904835-7835-4e8b-adfc-ca116040d5b9",
   "metadata": {},
   "outputs": [],
   "source": [
    "new_lst"
   ]
  }
 ],
 "metadata": {
  "kernelspec": {
   "display_name": "Python 3 (ipykernel)",
   "language": "python",
   "name": "python3"
  },
  "language_info": {
   "codemirror_mode": {
    "name": "ipython",
    "version": 3
   },
   "file_extension": ".py",
   "mimetype": "text/x-python",
   "name": "python",
   "nbconvert_exporter": "python",
   "pygments_lexer": "ipython3",
   "version": "3.10.9"
  }
 },
 "nbformat": 4,
 "nbformat_minor": 5
}
