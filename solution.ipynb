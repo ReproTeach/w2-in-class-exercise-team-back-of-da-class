{
 "cells": [
  {
   "cell_type": "markdown",
   "id": "a0e82017-7983-4a97-bad2-07be564f0a83",
   "metadata": {},
   "source": [
    "### Team Back of da room\n",
    "\n",
    "# Jim Guo, Kristina Dyrvik, Laurwyn Smith, Xin Qi"
   ]
  },
  {
   "cell_type": "code",
   "execution_count": 23,
   "id": "4c22b5a4-0bfd-44dc-b1da-3383b87027c4",
   "metadata": {
    "tags": []
   },
   "outputs": [],
   "source": [
    "import numpy as np"
   ]
  },
  {
   "cell_type": "code",
   "execution_count": 16,
   "id": "f71507ad-e97a-4eb1-b0d3-590dc5742546",
   "metadata": {
    "tags": []
   },
   "outputs": [
    {
     "data": {
      "text/plain": [
       "12"
      ]
     },
     "execution_count": 16,
     "metadata": {},
     "output_type": "execute_result"
    }
   ],
   "source": [
    "def maxiumum(x):\n",
    "    return max(x)\n",
    "new_list=[2,4,6,8,10,12]\n",
    "\n",
    "maxiumum(new_list)\n",
    "#this code uses the max function to make it alot easier "
   ]
  },
  {
   "cell_type": "code",
   "execution_count": 77,
   "id": "e0612230-ec08-4116-a8ed-b4037887010c",
   "metadata": {},
   "outputs": [],
   "source": [
    "def largest_num(lst):\n",
    "    big=lst[0]\n",
    "    for x in lst:\n",
    "        if x > big:\n",
    "            big=x \n",
    "    return big\n",
    "# this code assigns the first number of the list as the largest number \n",
    "#it then runs through the list to check to see if that number is greater than the other number\n",
    "#if it is not then it assigns the new greater number as the actual greater number and does this for the rest of the list \n",
    "#once the list has been run through it then returns the actual greater number "
   ]
  },
  {
   "cell_type": "code",
   "execution_count": 78,
   "id": "3818edcf-dd18-4efd-97a3-d8ddea66580e",
   "metadata": {
    "tags": []
   },
   "outputs": [
    {
     "data": {
      "text/plain": [
       "12"
      ]
     },
     "execution_count": 78,
     "metadata": {},
     "output_type": "execute_result"
    }
   ],
   "source": [
    "largest_num(new_list)"
   ]
  },
  {
   "cell_type": "code",
   "execution_count": null,
   "id": "872ab35c-d3f1-4638-a197-7f3bc20821ea",
   "metadata": {},
   "outputs": [],
   "source": []
  }
 ],
 "metadata": {
  "kernelspec": {
   "display_name": "Python 3 (ipykernel)",
   "language": "python",
   "name": "python3"
  },
  "language_info": {
   "codemirror_mode": {
    "name": "ipython",
    "version": 3
   },
   "file_extension": ".py",
   "mimetype": "text/x-python",
   "name": "python",
   "nbconvert_exporter": "python",
   "pygments_lexer": "ipython3",
   "version": "3.10.9"
  }
 },
 "nbformat": 4,
 "nbformat_minor": 5
}
